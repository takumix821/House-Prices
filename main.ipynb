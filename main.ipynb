{
 "cells": [
  {
   "cell_type": "markdown",
   "metadata": {},
   "source": [
    "# 房價預測\n",
    "本文件為機器學習課程的學習筆記，將利用常見的 Machine Learning 框架 Random Forest 和 XGBoost 來進行房價預測，並比較不同框架的優劣，分析過程共分為以下幾個部分：\n",
    "* 資料清洗 Data Cleaning\n",
    "* 特徵轉換 Feature Engineering\n",
    "* 區分 Train 訓練集 與 Test 測試集\n",
    "* 模型調整 Model Tuning\n",
    "  * 利用 Random Forest 預測房價， 以 Successive Halving algorithm 調整參數\n",
    "  * 利用 XGBoost 預測房價， 以迴圈選擇適合參數\n",
    "  * 再以 Successive Halving algorithm 調整 XGBoost 參數\n",
    "* 模型評估 Model Evaluation\n"
   ]
  },
  {
   "cell_type": "code",
   "execution_count": 1,
   "metadata": {},
   "outputs": [],
   "source": [
    "import pandas as pd\n",
    "import numpy as np\n",
    "\n",
    "from scipy.stats import norm\n",
    "\n",
    "from sklearn.experimental import enable_halving_search_cv\n",
    "\n",
    "from sklearn.model_selection import train_test_split\n",
    "from sklearn.model_selection import HalvingRandomSearchCV as HRSCV\n",
    "from sklearn.ensemble import RandomForestRegressor\n",
    "\n",
    "from project_module import data_cleaning\n",
    "from project_module import feature_engineering\n",
    "from project_module import regression_report\n",
    "\n",
    "from sklearn.metrics import mean_squared_error"
   ]
  },
  {
   "cell_type": "markdown",
   "metadata": {},
   "source": [
    "##### Data Cleaning\n",
    "- 引用模組 將缺失值過多的欄位刪去\n",
    "- 以眾數填補缺失值\n",
    "- 部分資料以 KNNImputer 填補缺失值(資料中距離最近的幾個點的值之平均)"
   ]
  },
  {
   "cell_type": "code",
   "execution_count": 2,
   "metadata": {},
   "outputs": [
    {
     "name": "stdout",
     "output_type": "stream",
     "text": [
      "<class 'pandas.core.frame.DataFrame'>\n",
      "Int64Index: 1460 entries, 0 to 364\n",
      "Data columns (total 79 columns):\n",
      " #   Column         Non-Null Count  Dtype  \n",
      "---  ------         --------------  -----  \n",
      " 0   Id             1460 non-null   int64  \n",
      " 1   MSSubClass     1460 non-null   int64  \n",
      " 2   MSZoning       1460 non-null   object \n",
      " 3   LotFrontage    1460 non-null   float64\n",
      " 4   LotArea        1460 non-null   int64  \n",
      " 5   Street         1460 non-null   object \n",
      " 6   Alley          1460 non-null   object \n",
      " 7   LotShape       1460 non-null   object \n",
      " 8   LandContour    1460 non-null   object \n",
      " 9   Utilities      1460 non-null   object \n",
      " 10  LotConfig      1460 non-null   object \n",
      " 11  LandSlope      1460 non-null   object \n",
      " 12  Neighborhood   1460 non-null   object \n",
      " 13  Condition1     1460 non-null   object \n",
      " 14  Condition2     1460 non-null   object \n",
      " 15  BldgType       1460 non-null   object \n",
      " 16  HouseStyle     1460 non-null   object \n",
      " 17  OverallQual    1460 non-null   int64  \n",
      " 18  OverallCond    1460 non-null   int64  \n",
      " 19  YearBuilt      1460 non-null   int64  \n",
      " 20  YearRemodAdd   1460 non-null   int64  \n",
      " 21  RoofStyle      1460 non-null   object \n",
      " 22  RoofMatl       1460 non-null   object \n",
      " 23  Exterior1st    1460 non-null   object \n",
      " 24  Exterior2nd    1460 non-null   object \n",
      " 25  MasVnrType     1460 non-null   object \n",
      " 26  MasVnrArea     1460 non-null   float64\n",
      " 27  ExterQual      1460 non-null   object \n",
      " 28  ExterCond      1460 non-null   object \n",
      " 29  Foundation     1460 non-null   object \n",
      " 30  BsmtQual       1460 non-null   object \n",
      " 31  BsmtCond       1460 non-null   object \n",
      " 32  BsmtExposure   1460 non-null   object \n",
      " 33  BsmtFinType1   1460 non-null   object \n",
      " 34  BsmtFinSF1     1460 non-null   int64  \n",
      " 35  BsmtFinType2   1460 non-null   object \n",
      " 36  BsmtFinSF2     1460 non-null   int64  \n",
      " 37  BsmtUnfSF      1460 non-null   int64  \n",
      " 38  TotalBsmtSF    1460 non-null   int64  \n",
      " 39  Heating        1460 non-null   object \n",
      " 40  HeatingQC      1460 non-null   object \n",
      " 41  CentralAir     1460 non-null   object \n",
      " 42  Electrical     1460 non-null   object \n",
      " 43  1stFlrSF       1460 non-null   int64  \n",
      " 44  2ndFlrSF       1460 non-null   int64  \n",
      " 45  LowQualFinSF   1460 non-null   int64  \n",
      " 46  GrLivArea      1460 non-null   int64  \n",
      " 47  BsmtFullBath   1460 non-null   int64  \n",
      " 48  BsmtHalfBath   1460 non-null   int64  \n",
      " 49  FullBath       1460 non-null   int64  \n",
      " 50  HalfBath       1460 non-null   int64  \n",
      " 51  BedroomAbvGr   1460 non-null   int64  \n",
      " 52  KitchenAbvGr   1460 non-null   int64  \n",
      " 53  KitchenQual    1460 non-null   object \n",
      " 54  TotRmsAbvGrd   1460 non-null   int64  \n",
      " 55  Functional     1460 non-null   object \n",
      " 56  Fireplaces     1460 non-null   int64  \n",
      " 57  FireplaceQu    1460 non-null   object \n",
      " 58  GarageType     1460 non-null   object \n",
      " 59  GarageYrBlt    1460 non-null   float64\n",
      " 60  GarageFinish   1460 non-null   object \n",
      " 61  GarageCars     1460 non-null   int64  \n",
      " 62  GarageArea     1460 non-null   int64  \n",
      " 63  GarageQual     1460 non-null   object \n",
      " 64  GarageCond     1460 non-null   object \n",
      " 65  PavedDrive     1460 non-null   object \n",
      " 66  WoodDeckSF     1460 non-null   int64  \n",
      " 67  OpenPorchSF    1460 non-null   int64  \n",
      " 68  EnclosedPorch  1460 non-null   int64  \n",
      " 69  3SsnPorch      1460 non-null   int64  \n",
      " 70  ScreenPorch    1460 non-null   int64  \n",
      " 71  PoolArea       1460 non-null   int64  \n",
      " 72  MiscFeature    1460 non-null   object \n",
      " 73  MiscVal        1460 non-null   int64  \n",
      " 74  MoSold         1460 non-null   int64  \n",
      " 75  YrSold         1460 non-null   int64  \n",
      " 76  SaleType       1460 non-null   object \n",
      " 77  SaleCondition  1460 non-null   object \n",
      " 78  SalePrice      1460 non-null   int64  \n",
      "dtypes: float64(3), int64(35), object(41)\n",
      "memory usage: 912.5+ KB\n"
     ]
    }
   ],
   "source": [
    "train = pd.read_csv('train.csv')\n",
    "test = pd.read_csv('test.csv')\n",
    "total = data_cleaning(train, test)\n",
    "total.info()"
   ]
  },
  {
   "cell_type": "markdown",
   "metadata": {},
   "source": [
    "##### Feature Engineering\n",
    "- 引用模組 進行特徵轉換 使資料容易套用模型，主要方法有：\n",
    "    - Label Encoding\n",
    "    - 部分類別資料以 One-hot Encoding 編碼"
   ]
  },
  {
   "cell_type": "code",
   "execution_count": 3,
   "metadata": {},
   "outputs": [
    {
     "name": "stdout",
     "output_type": "stream",
     "text": [
      "<class 'pandas.core.frame.DataFrame'>\n",
      "Int64Index: 1460 entries, 0 to 364\n",
      "Data columns (total 90 columns):\n",
      " #   Column             Non-Null Count  Dtype  \n",
      "---  ------             --------------  -----  \n",
      " 0   MSSubClass         1460 non-null   int64  \n",
      " 1   MSZoning           1460 non-null   int64  \n",
      " 2   LotFrontage        1460 non-null   float64\n",
      " 3   LotArea            1460 non-null   int64  \n",
      " 4   Street             1460 non-null   int32  \n",
      " 5   Neighborhood       1460 non-null   int32  \n",
      " 6   Condition1         1460 non-null   int32  \n",
      " 7   Condition2         1460 non-null   int64  \n",
      " 8   HouseStyle         1460 non-null   int32  \n",
      " 9   OverallQual        1460 non-null   int64  \n",
      " 10  OverallCond        1460 non-null   int64  \n",
      " 11  RoofStyle          1460 non-null   int64  \n",
      " 12  RoofMatl           1460 non-null   int32  \n",
      " 13  Exterior1st        1460 non-null   int32  \n",
      " 14  Exterior2nd        1460 non-null   int32  \n",
      " 15  MasVnrType         1460 non-null   int64  \n",
      " 16  MasVnrArea         1460 non-null   float64\n",
      " 17  ExterQual          1460 non-null   int64  \n",
      " 18  Foundation         1460 non-null   int32  \n",
      " 19  BsmtQual           1460 non-null   int64  \n",
      " 20  BsmtCond           1460 non-null   int64  \n",
      " 21  BsmtExposure       1460 non-null   int64  \n",
      " 22  BsmtFinType1       1460 non-null   int32  \n",
      " 23  BsmtFinType2       1460 non-null   int32  \n",
      " 24  BsmtUnfSF          1460 non-null   int64  \n",
      " 25  Heating            1460 non-null   int32  \n",
      " 26  HeatingQC          1460 non-null   int32  \n",
      " 27  CentralAir         1460 non-null   int64  \n",
      " 28  Electrical         1460 non-null   int32  \n",
      " 29  LowQualFinSF       1460 non-null   int64  \n",
      " 30  GrLivArea          1460 non-null   int64  \n",
      " 31  BedroomAbvGr       1460 non-null   int64  \n",
      " 32  KitchenAbvGr       1460 non-null   int64  \n",
      " 33  KitchenQual        1460 non-null   int64  \n",
      " 34  TotRmsAbvGrd       1460 non-null   int64  \n",
      " 35  Functional         1460 non-null   int32  \n",
      " 36  Fireplaces         1460 non-null   int64  \n",
      " 37  FireplaceQu        1460 non-null   int32  \n",
      " 38  GarageType         1460 non-null   int32  \n",
      " 39  GarageYrBlt        1460 non-null   float64\n",
      " 40  GarageFinish       1460 non-null   int64  \n",
      " 41  GarageCars         1460 non-null   int64  \n",
      " 42  GarageArea         1460 non-null   int64  \n",
      " 43  GarageQual         1460 non-null   int32  \n",
      " 44  GarageCond         1460 non-null   int32  \n",
      " 45  PavedDrive         1460 non-null   int64  \n",
      " 46  PoolArea           1460 non-null   int64  \n",
      " 47  MiscFeature        1460 non-null   int32  \n",
      " 48  MiscVal            1460 non-null   int64  \n",
      " 49  MoSold             1460 non-null   int64  \n",
      " 50  YrSold             1460 non-null   int64  \n",
      " 51  SaleType           1460 non-null   int32  \n",
      " 52  SaleCondition      1460 non-null   int32  \n",
      " 53  SalePrice          1460 non-null   int64  \n",
      " 54  Alley_Grvl         1460 non-null   uint8  \n",
      " 55  Alley_Na           1460 non-null   uint8  \n",
      " 56  Alley_Pave         1460 non-null   uint8  \n",
      " 57  LotShape_IR1       1460 non-null   uint8  \n",
      " 58  LotShape_IR2       1460 non-null   uint8  \n",
      " 59  LotShape_IR3       1460 non-null   uint8  \n",
      " 60  LotShape_Reg       1460 non-null   uint8  \n",
      " 61  LandContour_Bnk    1460 non-null   uint8  \n",
      " 62  LandContour_HLS    1460 non-null   uint8  \n",
      " 63  LandContour_Low    1460 non-null   uint8  \n",
      " 64  LandContour_Lvl    1460 non-null   uint8  \n",
      " 65  Utilities_AllPub   1460 non-null   uint8  \n",
      " 66  Utilities_NoSeWa   1460 non-null   uint8  \n",
      " 67  LotConfig_Corner   1460 non-null   uint8  \n",
      " 68  LotConfig_CulDSac  1460 non-null   uint8  \n",
      " 69  LotConfig_FR2      1460 non-null   uint8  \n",
      " 70  LotConfig_FR3      1460 non-null   uint8  \n",
      " 71  LotConfig_Inside   1460 non-null   uint8  \n",
      " 72  LandSlope_Gtl      1460 non-null   uint8  \n",
      " 73  LandSlope_Mod      1460 non-null   uint8  \n",
      " 74  LandSlope_Sev      1460 non-null   uint8  \n",
      " 75  BldgType_1Fam      1460 non-null   uint8  \n",
      " 76  BldgType_2fmCon    1460 non-null   uint8  \n",
      " 77  BldgType_Duplex    1460 non-null   uint8  \n",
      " 78  BldgType_Twnhs     1460 non-null   uint8  \n",
      " 79  BldgType_TwnhsE    1460 non-null   uint8  \n",
      " 80  ExterCond_Ex       1460 non-null   uint8  \n",
      " 81  ExterCond_Fa       1460 non-null   uint8  \n",
      " 82  ExterCond_Gd       1460 non-null   uint8  \n",
      " 83  ExterCond_Po       1460 non-null   uint8  \n",
      " 84  ExterCond_TA       1460 non-null   uint8  \n",
      " 85  YrBltAndRemod      1460 non-null   int64  \n",
      " 86  TotalSF            1460 non-null   int64  \n",
      " 87  Total_sqr_footage  1460 non-null   int64  \n",
      " 88  Total_Bathrooms    1460 non-null   float64\n",
      " 89  Total_porch_sf     1460 non-null   int64  \n",
      "dtypes: float64(4), int32(21), int64(34), uint8(31)\n",
      "memory usage: 608.8 KB\n"
     ]
    }
   ],
   "source": [
    "total_fe = feature_engineering(total)\n",
    "total_fe.info()"
   ]
  },
  {
   "cell_type": "markdown",
   "metadata": {},
   "source": [
    "#### Train test split"
   ]
  },
  {
   "cell_type": "code",
   "execution_count": 4,
   "metadata": {},
   "outputs": [],
   "source": [
    "target = 'SalePrice'\n",
    "train_size = train.shape[0]\n",
    "Y = total_fe[target]\n",
    "X = total_fe.drop(columns = [target])"
   ]
  },
  {
   "cell_type": "code",
   "execution_count": 5,
   "metadata": {},
   "outputs": [
    {
     "name": "stdout",
     "output_type": "stream",
     "text": [
      "Training: ((1095, 89), (1095,))\n",
      "Testing: ((365, 89), (365,))\n"
     ]
    }
   ],
   "source": [
    "# training data\n",
    "x_train = np.array(X[: train_size])\n",
    "y_train = np.array(Y[:train_size])\n",
    "\n",
    "# testing data\n",
    "x_test = np.array(X[train_size: ])\n",
    "y_test = np.array(Y[train_size: ])\n",
    "\n",
    "print(f'Training: {x_train.shape, y_train.shape}')\n",
    "print(f'Testing: {x_test.shape, y_test.shape}')"
   ]
  },
  {
   "cell_type": "markdown",
   "metadata": {},
   "source": [
    "##### Model Tuning"
   ]
  },
  {
   "cell_type": "markdown",
   "metadata": {},
   "source": [
    "##### Random Forest Regressor\n",
    "- 建立Random Forest Regressor模型並進行預測：  \n",
    "    Random Forest 為常見的 Machine Learning 學習框架之一，基本概念為將資料做 Bagging ，結合多個決策樹做整體學習。  \n",
    "- 再利用 Successive Halving Algorithm 選擇模型參數：  \n",
    "    可以看作是一種更有效率的方式，將隨機選出的參數組合作評比，每次評比淘汰部分的模型，使調整參數更有效率。"
   ]
  },
  {
   "cell_type": "code",
   "execution_count": null,
   "metadata": {},
   "outputs": [
    {
     "name": "stdout",
     "output_type": "stream",
     "text": [
      "Best score is -0.7693\n",
      "Best params is {'n_estimators': 481, 'min_samples_split': 2, 'min_samples_leaf': 3, 'max_depth': 4}\n"
     ]
    }
   ],
   "source": [
    "from sklearn.ensemble import RandomForestRegressor\n",
    "RF = RandomForestRegressor()\n",
    "\n",
    "search_params = {\n",
    "    'n_estimators': np.arange(100, 500),\n",
    "    'min_samples_split': np.arange(2, 11),\n",
    "    'min_samples_leaf': np.arange(1, 11),\n",
    "    'max_depth': np.arange(1, 5)\n",
    "}\n",
    "\n",
    "SH_search = HRSCV(\n",
    "    estimator = RF, param_distributions = search_params, n_candidates = 'exhaust', \n",
    "    factor = 2, resource = 'n_samples'\n",
    ")\n",
    "\n",
    "SH_search.fit(x_train, y_train)\n",
    "\n",
    "print(f'Best score is {(-1) * SH_search.best_score_:.4f}')\n",
    "print(f'Best params is {SH_search.best_params_}')"
   ]
  },
  {
   "cell_type": "code",
   "execution_count": null,
   "metadata": {},
   "outputs": [
    {
     "name": "stdout",
     "output_type": "stream",
     "text": [
      "mse = 1246995559.8388\n",
      "mae = 20502.6682\n",
      "rmse = 35312.8243\n",
      "mape = 0.1221\n"
     ]
    }
   ],
   "source": [
    "best_param = SH_search.best_params_.copy()\n",
    "\n",
    "RF_HRS = RandomForestRegressor(**best_param)\n",
    "RF_HRS.fit(x_train, y_train)\n",
    "pred = RF_HRS.predict(x_test)\n",
    "regression_report(y_test, pred, True)"
   ]
  },
  {
   "cell_type": "markdown",
   "metadata": {},
   "source": [
    "##### XGBoost\n",
    "XGBoost 則是以 Boosting 的方式訓練決策樹，在每次訓練都調整前一次預測不好的部分，本次先以迴圈測試不同參數的XGBoost模型表現，並選擇適當的模型參數。"
   ]
  },
  {
   "cell_type": "code",
   "execution_count": 25,
   "metadata": {},
   "outputs": [],
   "source": [
    "n_estimators = [100, 200, 300, 400, 500]\n",
    "learning_rate = [0.2, 0.3, 0.4, 0.5]\n",
    "max_depth = [2, 5]\n",
    "from xgboost import XGBRegressor\n",
    "\n",
    "score_table = pd.DataFrame(columns = ('n_estimators', 'learning_rate', 'max_depth', 'score_train', 'score_test'))\n",
    "\n",
    "for i in n_estimators:\n",
    "    for j in learning_rate:\n",
    "        for k in max_depth:\n",
    "            XGBmodel = XGBRegressor(n_estimators = i, learning_rate = j, max_depth = k)\n",
    "            XGBmodel.fit(x_train, y_train)\n",
    "            score_train = XGBmodel.score(x_train, y_train)\n",
    "            score_test = XGBmodel.score(x_test, y_test)\n",
    "            score_t = pd.DataFrame([[i, j, k, round(score_train, 4), round(score_test, 4)]], \\\n",
    "                columns = ('n_estimators', 'learning_rate', 'max_depth', 'score_train', 'score_test'))\n",
    "            score_table = pd.concat([score_table, score_t], axis = 0)\n",
    "score_table_sklearn = score_table.reset_index(drop=True)"
   ]
  },
  {
   "cell_type": "code",
   "execution_count": 26,
   "metadata": {},
   "outputs": [
    {
     "data": {
      "text/html": [
       "<div>\n",
       "<style scoped>\n",
       "    .dataframe tbody tr th:only-of-type {\n",
       "        vertical-align: middle;\n",
       "    }\n",
       "\n",
       "    .dataframe tbody tr th {\n",
       "        vertical-align: top;\n",
       "    }\n",
       "\n",
       "    .dataframe thead th {\n",
       "        text-align: right;\n",
       "    }\n",
       "</style>\n",
       "<table border=\"1\" class=\"dataframe\">\n",
       "  <thead>\n",
       "    <tr style=\"text-align: right;\">\n",
       "      <th></th>\n",
       "      <th>n_estimators</th>\n",
       "      <th>learning_rate</th>\n",
       "      <th>max_depth</th>\n",
       "      <th>score_train</th>\n",
       "      <th>score_test</th>\n",
       "    </tr>\n",
       "  </thead>\n",
       "  <tbody>\n",
       "    <tr>\n",
       "      <th>15</th>\n",
       "      <td>200</td>\n",
       "      <td>0.5</td>\n",
       "      <td>5</td>\n",
       "      <td>1.0000</td>\n",
       "      <td>0.7670</td>\n",
       "    </tr>\n",
       "    <tr>\n",
       "      <th>23</th>\n",
       "      <td>300</td>\n",
       "      <td>0.5</td>\n",
       "      <td>5</td>\n",
       "      <td>1.0000</td>\n",
       "      <td>0.7670</td>\n",
       "    </tr>\n",
       "    <tr>\n",
       "      <th>31</th>\n",
       "      <td>400</td>\n",
       "      <td>0.5</td>\n",
       "      <td>5</td>\n",
       "      <td>1.0000</td>\n",
       "      <td>0.7670</td>\n",
       "    </tr>\n",
       "    <tr>\n",
       "      <th>39</th>\n",
       "      <td>500</td>\n",
       "      <td>0.5</td>\n",
       "      <td>5</td>\n",
       "      <td>1.0000</td>\n",
       "      <td>0.7670</td>\n",
       "    </tr>\n",
       "    <tr>\n",
       "      <th>7</th>\n",
       "      <td>100</td>\n",
       "      <td>0.5</td>\n",
       "      <td>5</td>\n",
       "      <td>0.9999</td>\n",
       "      <td>0.7672</td>\n",
       "    </tr>\n",
       "    <tr>\n",
       "      <th>13</th>\n",
       "      <td>200</td>\n",
       "      <td>0.4</td>\n",
       "      <td>5</td>\n",
       "      <td>1.0000</td>\n",
       "      <td>0.7759</td>\n",
       "    </tr>\n",
       "    <tr>\n",
       "      <th>21</th>\n",
       "      <td>300</td>\n",
       "      <td>0.4</td>\n",
       "      <td>5</td>\n",
       "      <td>1.0000</td>\n",
       "      <td>0.7759</td>\n",
       "    </tr>\n",
       "    <tr>\n",
       "      <th>29</th>\n",
       "      <td>400</td>\n",
       "      <td>0.4</td>\n",
       "      <td>5</td>\n",
       "      <td>1.0000</td>\n",
       "      <td>0.7759</td>\n",
       "    </tr>\n",
       "    <tr>\n",
       "      <th>37</th>\n",
       "      <td>500</td>\n",
       "      <td>0.4</td>\n",
       "      <td>5</td>\n",
       "      <td>1.0000</td>\n",
       "      <td>0.7759</td>\n",
       "    </tr>\n",
       "    <tr>\n",
       "      <th>5</th>\n",
       "      <td>100</td>\n",
       "      <td>0.4</td>\n",
       "      <td>5</td>\n",
       "      <td>0.9996</td>\n",
       "      <td>0.7764</td>\n",
       "    </tr>\n",
       "    <tr>\n",
       "      <th>11</th>\n",
       "      <td>200</td>\n",
       "      <td>0.3</td>\n",
       "      <td>5</td>\n",
       "      <td>1.0000</td>\n",
       "      <td>0.8181</td>\n",
       "    </tr>\n",
       "    <tr>\n",
       "      <th>19</th>\n",
       "      <td>300</td>\n",
       "      <td>0.3</td>\n",
       "      <td>5</td>\n",
       "      <td>1.0000</td>\n",
       "      <td>0.8181</td>\n",
       "    </tr>\n",
       "    <tr>\n",
       "      <th>27</th>\n",
       "      <td>400</td>\n",
       "      <td>0.3</td>\n",
       "      <td>5</td>\n",
       "      <td>1.0000</td>\n",
       "      <td>0.8181</td>\n",
       "    </tr>\n",
       "    <tr>\n",
       "      <th>35</th>\n",
       "      <td>500</td>\n",
       "      <td>0.3</td>\n",
       "      <td>5</td>\n",
       "      <td>1.0000</td>\n",
       "      <td>0.8181</td>\n",
       "    </tr>\n",
       "    <tr>\n",
       "      <th>3</th>\n",
       "      <td>100</td>\n",
       "      <td>0.3</td>\n",
       "      <td>5</td>\n",
       "      <td>0.9990</td>\n",
       "      <td>0.8183</td>\n",
       "    </tr>\n",
       "    <tr>\n",
       "      <th>9</th>\n",
       "      <td>200</td>\n",
       "      <td>0.2</td>\n",
       "      <td>5</td>\n",
       "      <td>0.9996</td>\n",
       "      <td>0.8495</td>\n",
       "    </tr>\n",
       "    <tr>\n",
       "      <th>1</th>\n",
       "      <td>100</td>\n",
       "      <td>0.2</td>\n",
       "      <td>5</td>\n",
       "      <td>0.9969</td>\n",
       "      <td>0.8496</td>\n",
       "    </tr>\n",
       "    <tr>\n",
       "      <th>17</th>\n",
       "      <td>300</td>\n",
       "      <td>0.2</td>\n",
       "      <td>5</td>\n",
       "      <td>0.9999</td>\n",
       "      <td>0.8498</td>\n",
       "    </tr>\n",
       "    <tr>\n",
       "      <th>25</th>\n",
       "      <td>400</td>\n",
       "      <td>0.2</td>\n",
       "      <td>5</td>\n",
       "      <td>1.0000</td>\n",
       "      <td>0.8498</td>\n",
       "    </tr>\n",
       "    <tr>\n",
       "      <th>33</th>\n",
       "      <td>500</td>\n",
       "      <td>0.2</td>\n",
       "      <td>5</td>\n",
       "      <td>1.0000</td>\n",
       "      <td>0.8498</td>\n",
       "    </tr>\n",
       "    <tr>\n",
       "      <th>4</th>\n",
       "      <td>100</td>\n",
       "      <td>0.4</td>\n",
       "      <td>2</td>\n",
       "      <td>0.9684</td>\n",
       "      <td>0.8753</td>\n",
       "    </tr>\n",
       "    <tr>\n",
       "      <th>6</th>\n",
       "      <td>100</td>\n",
       "      <td>0.5</td>\n",
       "      <td>2</td>\n",
       "      <td>0.9723</td>\n",
       "      <td>0.8767</td>\n",
       "    </tr>\n",
       "    <tr>\n",
       "      <th>22</th>\n",
       "      <td>300</td>\n",
       "      <td>0.5</td>\n",
       "      <td>2</td>\n",
       "      <td>0.9927</td>\n",
       "      <td>0.8774</td>\n",
       "    </tr>\n",
       "    <tr>\n",
       "      <th>38</th>\n",
       "      <td>500</td>\n",
       "      <td>0.5</td>\n",
       "      <td>2</td>\n",
       "      <td>0.9973</td>\n",
       "      <td>0.8781</td>\n",
       "    </tr>\n",
       "    <tr>\n",
       "      <th>30</th>\n",
       "      <td>400</td>\n",
       "      <td>0.5</td>\n",
       "      <td>2</td>\n",
       "      <td>0.9955</td>\n",
       "      <td>0.8785</td>\n",
       "    </tr>\n",
       "    <tr>\n",
       "      <th>2</th>\n",
       "      <td>100</td>\n",
       "      <td>0.3</td>\n",
       "      <td>2</td>\n",
       "      <td>0.9615</td>\n",
       "      <td>0.8789</td>\n",
       "    </tr>\n",
       "    <tr>\n",
       "      <th>14</th>\n",
       "      <td>200</td>\n",
       "      <td>0.5</td>\n",
       "      <td>2</td>\n",
       "      <td>0.9869</td>\n",
       "      <td>0.8793</td>\n",
       "    </tr>\n",
       "    <tr>\n",
       "      <th>0</th>\n",
       "      <td>100</td>\n",
       "      <td>0.2</td>\n",
       "      <td>2</td>\n",
       "      <td>0.9534</td>\n",
       "      <td>0.8796</td>\n",
       "    </tr>\n",
       "    <tr>\n",
       "      <th>12</th>\n",
       "      <td>200</td>\n",
       "      <td>0.4</td>\n",
       "      <td>2</td>\n",
       "      <td>0.9839</td>\n",
       "      <td>0.8802</td>\n",
       "    </tr>\n",
       "    <tr>\n",
       "      <th>18</th>\n",
       "      <td>300</td>\n",
       "      <td>0.3</td>\n",
       "      <td>2</td>\n",
       "      <td>0.9859</td>\n",
       "      <td>0.8802</td>\n",
       "    </tr>\n",
       "    <tr>\n",
       "      <th>10</th>\n",
       "      <td>200</td>\n",
       "      <td>0.3</td>\n",
       "      <td>2</td>\n",
       "      <td>0.9788</td>\n",
       "      <td>0.8806</td>\n",
       "    </tr>\n",
       "    <tr>\n",
       "      <th>26</th>\n",
       "      <td>400</td>\n",
       "      <td>0.3</td>\n",
       "      <td>2</td>\n",
       "      <td>0.9903</td>\n",
       "      <td>0.8821</td>\n",
       "    </tr>\n",
       "    <tr>\n",
       "      <th>34</th>\n",
       "      <td>500</td>\n",
       "      <td>0.3</td>\n",
       "      <td>2</td>\n",
       "      <td>0.9931</td>\n",
       "      <td>0.8821</td>\n",
       "    </tr>\n",
       "    <tr>\n",
       "      <th>8</th>\n",
       "      <td>200</td>\n",
       "      <td>0.2</td>\n",
       "      <td>2</td>\n",
       "      <td>0.9715</td>\n",
       "      <td>0.8823</td>\n",
       "    </tr>\n",
       "    <tr>\n",
       "      <th>36</th>\n",
       "      <td>500</td>\n",
       "      <td>0.4</td>\n",
       "      <td>2</td>\n",
       "      <td>0.9957</td>\n",
       "      <td>0.8830</td>\n",
       "    </tr>\n",
       "    <tr>\n",
       "      <th>16</th>\n",
       "      <td>300</td>\n",
       "      <td>0.2</td>\n",
       "      <td>2</td>\n",
       "      <td>0.9799</td>\n",
       "      <td>0.8833</td>\n",
       "    </tr>\n",
       "    <tr>\n",
       "      <th>20</th>\n",
       "      <td>300</td>\n",
       "      <td>0.4</td>\n",
       "      <td>2</td>\n",
       "      <td>0.9901</td>\n",
       "      <td>0.8834</td>\n",
       "    </tr>\n",
       "    <tr>\n",
       "      <th>24</th>\n",
       "      <td>400</td>\n",
       "      <td>0.2</td>\n",
       "      <td>2</td>\n",
       "      <td>0.9847</td>\n",
       "      <td>0.8836</td>\n",
       "    </tr>\n",
       "    <tr>\n",
       "      <th>28</th>\n",
       "      <td>400</td>\n",
       "      <td>0.4</td>\n",
       "      <td>2</td>\n",
       "      <td>0.9937</td>\n",
       "      <td>0.8838</td>\n",
       "    </tr>\n",
       "    <tr>\n",
       "      <th>32</th>\n",
       "      <td>500</td>\n",
       "      <td>0.2</td>\n",
       "      <td>2</td>\n",
       "      <td>0.9882</td>\n",
       "      <td>0.8867</td>\n",
       "    </tr>\n",
       "  </tbody>\n",
       "</table>\n",
       "</div>"
      ],
      "text/plain": [
       "   n_estimators  learning_rate max_depth  score_train  score_test\n",
       "15          200            0.5         5       1.0000      0.7670\n",
       "23          300            0.5         5       1.0000      0.7670\n",
       "31          400            0.5         5       1.0000      0.7670\n",
       "39          500            0.5         5       1.0000      0.7670\n",
       "7           100            0.5         5       0.9999      0.7672\n",
       "13          200            0.4         5       1.0000      0.7759\n",
       "21          300            0.4         5       1.0000      0.7759\n",
       "29          400            0.4         5       1.0000      0.7759\n",
       "37          500            0.4         5       1.0000      0.7759\n",
       "5           100            0.4         5       0.9996      0.7764\n",
       "11          200            0.3         5       1.0000      0.8181\n",
       "19          300            0.3         5       1.0000      0.8181\n",
       "27          400            0.3         5       1.0000      0.8181\n",
       "35          500            0.3         5       1.0000      0.8181\n",
       "3           100            0.3         5       0.9990      0.8183\n",
       "9           200            0.2         5       0.9996      0.8495\n",
       "1           100            0.2         5       0.9969      0.8496\n",
       "17          300            0.2         5       0.9999      0.8498\n",
       "25          400            0.2         5       1.0000      0.8498\n",
       "33          500            0.2         5       1.0000      0.8498\n",
       "4           100            0.4         2       0.9684      0.8753\n",
       "6           100            0.5         2       0.9723      0.8767\n",
       "22          300            0.5         2       0.9927      0.8774\n",
       "38          500            0.5         2       0.9973      0.8781\n",
       "30          400            0.5         2       0.9955      0.8785\n",
       "2           100            0.3         2       0.9615      0.8789\n",
       "14          200            0.5         2       0.9869      0.8793\n",
       "0           100            0.2         2       0.9534      0.8796\n",
       "12          200            0.4         2       0.9839      0.8802\n",
       "18          300            0.3         2       0.9859      0.8802\n",
       "10          200            0.3         2       0.9788      0.8806\n",
       "26          400            0.3         2       0.9903      0.8821\n",
       "34          500            0.3         2       0.9931      0.8821\n",
       "8           200            0.2         2       0.9715      0.8823\n",
       "36          500            0.4         2       0.9957      0.8830\n",
       "16          300            0.2         2       0.9799      0.8833\n",
       "20          300            0.4         2       0.9901      0.8834\n",
       "24          400            0.2         2       0.9847      0.8836\n",
       "28          400            0.4         2       0.9937      0.8838\n",
       "32          500            0.2         2       0.9882      0.8867"
      ]
     },
     "execution_count": 26,
     "metadata": {},
     "output_type": "execute_result"
    }
   ],
   "source": [
    "score_table_sklearn.sort_values(by = ['score_test', 'score_train'])\n"
   ]
  },
  {
   "cell_type": "markdown",
   "metadata": {},
   "source": [
    "由以上結果可以明顯觀察到，max_depth選擇2為最合適，learning_rate不應該太高。"
   ]
  },
  {
   "cell_type": "code",
   "execution_count": 35,
   "metadata": {},
   "outputs": [
    {
     "name": "stdout",
     "output_type": "stream",
     "text": [
      "mse = 864540635.2353\n",
      "mae = 15384.7159\n",
      "rmse = 29403.0719\n",
      "mape = 0.0881\n"
     ]
    }
   ],
   "source": [
    "XGBmodel_for = XGBRegressor(n_estimators = 500, learning_rate = 0.2, max_depth = 2)\n",
    "XGBmodel_for.fit(x_train, y_train)\n",
    "p = XGBmodel_for.predict(x_test)\n",
    "regression_report(y_test, p, True)"
   ]
  },
  {
   "cell_type": "markdown",
   "metadata": {},
   "source": [
    "以訓練結果最好的參數進行訓練，結果如上，可以明顯觀察到誤差的下降。  \n",
    "接著同樣利用 Successive Halving algorithm 選擇參數。"
   ]
  },
  {
   "cell_type": "code",
   "execution_count": 33,
   "metadata": {},
   "outputs": [
    {
     "name": "stdout",
     "output_type": "stream",
     "text": [
      "Best score is -0.7755\n",
      "Best params is {'n_estimators': 371, 'max_depth': 2, 'learning_rate': 0.29999999999999993}\n"
     ]
    }
   ],
   "source": [
    "# 由上述觀察結果，max_depth選擇2為最合適，learning_rate不應該太高。因此參數範圍應設定如下：\n",
    "search_params = {\n",
    "    'n_estimators': np.arange(100, 500),\n",
    "    'learning_rate' : np.arange(0.1, 0.5, step = 0.01),\n",
    "    'max_depth': np.arange(1, 5)\n",
    "}\n",
    "\n",
    "SH_search = HRSCV(\n",
    "    estimator = XGBmodel, param_distributions = search_params, n_candidates = 'exhaust', \n",
    "    factor = 2, resource = 'n_samples'\n",
    ")\n",
    "\n",
    "SH_search.fit(x_train, y_train)\n",
    "\n",
    "print(f'Best score is {(-1) * SH_search.best_score_:.4f}')\n",
    "print(f'Best params is {SH_search.best_params_}')"
   ]
  },
  {
   "cell_type": "code",
   "execution_count": 36,
   "metadata": {},
   "outputs": [
    {
     "name": "stdout",
     "output_type": "stream",
     "text": [
      "mse = 903682777.7169\n",
      "mae = 15972.1198\n",
      "rmse = 30061.3170\n",
      "mape = 0.0886\n"
     ]
    }
   ],
   "source": [
    "best_param = SH_search.best_params_.copy()\n",
    "\n",
    "XGBmodel_HRS = XGBRegressor(**best_param)\n",
    "XGBmodel_HRS.fit(x_train, y_train)\n",
    "pred = XGBmodel_HRS.predict(x_test)\n",
    "regression_report(y_test, pred, True)"
   ]
  },
  {
   "cell_type": "markdown",
   "metadata": {},
   "source": [
    "雖然訓練結果誤差沒有變少，但利用 Successive Halving algorithm 可以有效節省調整參數的時間。"
   ]
  },
  {
   "cell_type": "markdown",
   "metadata": {},
   "source": [
    "##### model evaluation\n",
    "下圖分別為利用 Successive Halving Algorithm 調整參數的模型及以迴圈選擇參數的模型之 Feature importance。"
   ]
  },
  {
   "cell_type": "markdown",
   "metadata": {},
   "source": [
    "Successive Halving Algorithm："
   ]
  },
  {
   "cell_type": "code",
   "execution_count": 37,
   "metadata": {},
   "outputs": [
    {
     "data": {
      "text/plain": [
       "<AxesSubplot:title={'center':'Feature importance'}, xlabel='F score', ylabel='Features'>"
      ]
     },
     "execution_count": 37,
     "metadata": {},
     "output_type": "execute_result"
    },
    {
     "data": {
      "image/png": "[encoded data removed]",
      "text/plain": [
       "<Figure size 432x288 with 1 Axes>"
      ]
     },
     "metadata": {
      "needs_background": "light"
     },
     "output_type": "display_data"
    }
   ],
   "source": [
    "from xgboost import plot_importance\n",
    "from xgboost import plot_tree\n",
    "from matplotlib import pyplot as plt\n",
    "plot_importance(XGBmodel_HRS, max_num_features=5)"
   ]
  },
  {
   "cell_type": "markdown",
   "metadata": {},
   "source": [
    "迴圈選擇："
   ]
  },
  {
   "cell_type": "code",
   "execution_count": 38,
   "metadata": {},
   "outputs": [
    {
     "data": {
      "text/plain": [
       "<AxesSubplot:title={'center':'Feature importance'}, xlabel='F score', ylabel='Features'>"
      ]
     },
     "execution_count": 38,
     "metadata": {},
     "output_type": "execute_result"
    },
    {
     "data": {
      "image/png": "[encoded data removed]",
      "text/plain": [
       "<Figure size 432x288 with 1 Axes>"
      ]
     },
     "metadata": {
      "needs_background": "light"
     },
     "output_type": "display_data"
    }
   ],
   "source": [
    "from xgboost import plot_importance\n",
    "from xgboost import plot_tree\n",
    "from matplotlib import pyplot as plt\n",
    "plot_importance(XGBmodel_for, max_num_features=5)"
   ]
  },
  {
   "cell_type": "markdown",
   "metadata": {},
   "source": [
    "兩者雖然有些微不同，但可以從Feature importance看出主要的特徵皆相同為以下五個欄位："
   ]
  },
  {
   "cell_type": "code",
   "execution_count": 45,
   "metadata": {},
   "outputs": [
    {
     "name": "stdout",
     "output_type": "stream",
     "text": [
      "Index(['Total_sqr_footage', 'BsmtUnfSF', 'LotArea', 'GrLivArea', 'TotalSF'], dtype='object')\n"
     ]
    }
   ],
   "source": [
    "print(X.columns[[86, 24, 3, 30, 85]])"
   ]
  }
 ],
 "metadata": {
  "interpreter": {
   "hash": "aee8b7b246df8f9039afb4144a1f6fd8d2ca17a180786b69acc140d282b71a49"
  },
  "kernelspec": {
   "display_name": "Python 3",
   "language": "python",
   "name": "python3"
  },
  "language_info": {
   "codemirror_mode": {
    "name": "ipython",
    "version": 3
   },
   "file_extension": ".py",
   "mimetype": "text/x-python",
   "name": "python",
   "nbconvert_exporter": "python",
   "pygments_lexer": "ipython3",
   "version": "3.9.4"
  }
 },
 "nbformat": 4,
 "nbformat_minor": 2
}
